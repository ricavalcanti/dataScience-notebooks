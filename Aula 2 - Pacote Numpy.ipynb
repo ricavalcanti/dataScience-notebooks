{
 "cells": [
  {
   "cell_type": "markdown",
   "metadata": {},
   "source": [
    "# UFRN\n",
    "# Disciplina: Ciência de Dados\n",
    "\n",
    "Prof. Luiz Affonso Guedes\n",
    "\n",
    "Engenharia de Computação - UFRN\n",
    "2018-2"
   ]
  },
  {
   "cell_type": "markdown",
   "metadata": {},
   "source": [
    "# Pacote Numpy\n",
    "- Pacote com operações sobre coleções diversas\n",
    "- Alternativa de arrays para listas, mas são mais eficientes computacionalmente que as listas.\n",
    "- Elementos de Arrays em Numpy, diferentemente de listas, possuem o mesmo tipo.\n",
    "   - Por isto, arrays são mais eficientes que listas."
   ]
  },
  {
   "cell_type": "markdown",
   "metadata": {},
   "source": [
    "NumPy3 é o pacote básico para computação científica com o Python. NumPy fornece, entre outras coisas, suporte para matrizes multidimensionais com operações básicas sobre elas e funções de álgebra linear úteis. \n",
    "\n",
    "- Muitos outros pacotes Python usam as representações da matriz NumPy como uma estrutura de dados básica eficiente. \n",
    "\n",
    "- O SciPy fornece uma coleção de algoritmos numéricos e toolboxs específicos do domínio, incluindo processamento de sinais, otimização, estatísticas e muito mais. \n",
    "\n",
    "    - Um toolbox básico no SciPy é a biblioteca para traçar gráficos Matplotlib. Este toolbox possui muitas ferramentas para visualização de dados."
   ]
  },
  {
   "cell_type": "code",
   "execution_count": 1,
   "metadata": {
    "collapsed": false
   },
   "outputs": [
    {
     "data": {
      "text/plain": [
       "'1.13.3'"
      ]
     },
     "execution_count": 1,
     "metadata": {},
     "output_type": "execute_result"
    }
   ],
   "source": [
    "# importando o pacote numpy e verificando a sua versão.\n",
    "import numpy\n",
    "numpy.__version__"
   ]
  },
  {
   "cell_type": "code",
   "execution_count": 3,
   "metadata": {
    "collapsed": true
   },
   "outputs": [],
   "source": [
    "# Por hábito e simplicidade, o pacote numpy é utilizado com o alias np \n",
    "import numpy as np"
   ]
  },
  {
   "cell_type": "code",
   "execution_count": 4,
   "metadata": {
    "collapsed": false
   },
   "outputs": [
    {
     "data": {
      "text/plain": [
       "\u001b[0;31mType:\u001b[0m        module\n",
       "\u001b[0;31mString form:\u001b[0m <module 'numpy' from '/Applications/anaconda3/lib/python3.6/site-packages/numpy/__init__.py'>\n",
       "\u001b[0;31mFile:\u001b[0m        /Applications/anaconda3/lib/python3.6/site-packages/numpy/__init__.py\n",
       "\u001b[0;31mDocstring:\u001b[0m  \n",
       "NumPy\n",
       "=====\n",
       "\n",
       "Provides\n",
       "  1. An array object of arbitrary homogeneous items\n",
       "  2. Fast mathematical operations over arrays\n",
       "  3. Linear Algebra, Fourier Transforms, Random Number Generation\n",
       "\n",
       "How to use the documentation\n",
       "----------------------------\n",
       "Documentation is available in two forms: docstrings provided\n",
       "with the code, and a loose standing reference guide, available from\n",
       "`the NumPy homepage <http://www.scipy.org>`_.\n",
       "\n",
       "We recommend exploring the docstrings using\n",
       "`IPython <http://ipython.scipy.org>`_, an advanced Python shell with\n",
       "TAB-completion and introspection capabilities.  See below for further\n",
       "instructions.\n",
       "\n",
       "The docstring examples assume that `numpy` has been imported as `np`::\n",
       "\n",
       "  >>> import numpy as np\n",
       "\n",
       "Code snippets are indicated by three greater-than signs::\n",
       "\n",
       "  >>> x = 42\n",
       "  >>> x = x + 1\n",
       "\n",
       "Use the built-in ``help`` function to view a function's docstring::\n",
       "\n",
       "  >>> help(np.sort)\n",
       "  ... # doctest: +SKIP\n",
       "\n",
       "For some objects, ``np.info(obj)`` may provide additional help.  This is\n",
       "particularly true if you see the line \"Help on ufunc object:\" at the top\n",
       "of the help() page.  Ufuncs are implemented in C, not Python, for speed.\n",
       "The native Python help() does not know how to view their help, but our\n",
       "np.info() function does.\n",
       "\n",
       "To search for documents containing a keyword, do::\n",
       "\n",
       "  >>> np.lookfor('keyword')\n",
       "  ... # doctest: +SKIP\n",
       "\n",
       "General-purpose documents like a glossary and help on the basic concepts\n",
       "of numpy are available under the ``doc`` sub-module::\n",
       "\n",
       "  >>> from numpy import doc\n",
       "  >>> help(doc)\n",
       "  ... # doctest: +SKIP\n",
       "\n",
       "Available subpackages\n",
       "---------------------\n",
       "doc\n",
       "    Topical documentation on broadcasting, indexing, etc.\n",
       "lib\n",
       "    Basic functions used by several sub-packages.\n",
       "random\n",
       "    Core Random Tools\n",
       "linalg\n",
       "    Core Linear Algebra Tools\n",
       "fft\n",
       "    Core FFT routines\n",
       "polynomial\n",
       "    Polynomial tools\n",
       "testing\n",
       "    NumPy testing tools\n",
       "f2py\n",
       "    Fortran to Python Interface Generator.\n",
       "distutils\n",
       "    Enhancements to distutils with support for\n",
       "    Fortran compilers support and more.\n",
       "\n",
       "Utilities\n",
       "---------\n",
       "test\n",
       "    Run numpy unittests\n",
       "show_config\n",
       "    Show numpy build configuration\n",
       "dual\n",
       "    Overwrite certain functions with high-performance Scipy tools\n",
       "matlib\n",
       "    Make everything matrices.\n",
       "__version__\n",
       "    NumPy version string\n",
       "\n",
       "Viewing documentation using IPython\n",
       "-----------------------------------\n",
       "Start IPython with the NumPy profile (``ipython -p numpy``), which will\n",
       "import `numpy` under the alias `np`.  Then, use the ``cpaste`` command to\n",
       "paste examples into the shell.  To see which functions are available in\n",
       "`numpy`, type ``np.<TAB>`` (where ``<TAB>`` refers to the TAB key), or use\n",
       "``np.*cos*?<ENTER>`` (where ``<ENTER>`` refers to the ENTER key) to narrow\n",
       "down the list.  To view the docstring for a function, use\n",
       "``np.cos?<ENTER>`` (to view the docstring) and ``np.cos??<ENTER>`` (to view\n",
       "the source code).\n",
       "\n",
       "Copies vs. in-place operation\n",
       "-----------------------------\n",
       "Most of the functions in `numpy` return a copy of the array argument\n",
       "(e.g., `np.sort`).  In-place versions of these functions are often\n",
       "available as array methods, i.e. ``x = np.array([1,2,3]); x.sort()``.\n",
       "Exceptions to this rule are documented.\n"
      ]
     },
     "metadata": {},
     "output_type": "display_data"
    }
   ],
   "source": [
    "# Para verificar o conteúdo do pacote\n",
    "np?"
   ]
  },
  {
   "cell_type": "markdown",
   "metadata": {},
   "source": [
    "Não podemos esquecer que em Python todas as variáveis são tipadas dinamicamente. Assim, a cada variável é atribuída mais informação além de seu conteúdo. \n",
    " - Como Python é implementado em C, cada variável Python é implementada com uma estrutura em C.\n",
    "     - Isto acarreta overhead.\n",
    "     - Em tipos complexo, como lista, a eficiência pode ficar muito comprometida quando se tem grandes dimensões nos dados.\n",
    "     \n",
    "- Dilema entre flexibilidade e desempenho\n",
    "    - Se uma lista possuir só elementos de um mesmo tipos, podemos tornar o manuseio dessa variável mais eficiente.\n",
    "    - Arrays em Numpy são \"listas\" cujos elementos são do mesmo tipo.\n",
    "        - Objeto ndarray no pacote Numpy.\n",
    "    - Há um pacote com tipo array em Python."
   ]
  },
  {
   "cell_type": "code",
   "execution_count": 5,
   "metadata": {
    "collapsed": false
   },
   "outputs": [
    {
     "name": "stdout",
     "output_type": "stream",
     "text": [
      "<class 'list'>\n",
      "[0, 1, 2, 3, 4, 5, 6, 7, 8, 9]\n",
      "\n",
      "<class 'array.array'>\n",
      "array('i', [0, 1, 2, 3, 4, 5, 6, 7, 8, 9])\n"
     ]
    }
   ],
   "source": [
    "# Exemplo de uso do tipo array (Não é o Array do Numpy)\n",
    "import array\n",
    "L = list(range(10))\n",
    "print(type(L))\n",
    "print(L)\n",
    "print()\n",
    "#A = array.array('i', L) # i designa que a variável é do tipo inteiro\n",
    "A = array.array('i', L)\n",
    "print(type(A))\n",
    "print(A)"
   ]
  },
  {
   "cell_type": "code",
   "execution_count": 6,
   "metadata": {
    "collapsed": false
   },
   "outputs": [
    {
     "name": "stdout",
     "output_type": "stream",
     "text": [
      "<class 'numpy.ndarray'>\n",
      "[1 4 2 5 3]\n"
     ]
    }
   ],
   "source": [
    "# Exemplo de uso do tipo Array do Pacote Numpy (objeto ndarray)\n",
    "import numpy as np\n",
    "# array de inteiros:\n",
    "A = np.array([1, 4, 2, 5, 3])\n",
    "print(type(A))\n",
    "print(A)"
   ]
  },
  {
   "cell_type": "code",
   "execution_count": 7,
   "metadata": {
    "collapsed": false
   },
   "outputs": [
    {
     "name": "stdout",
     "output_type": "stream",
     "text": [
      "<class 'numpy.ndarray'>\n",
      "[ 3.14  4.    2.    3.  ]\n"
     ]
    }
   ],
   "source": [
    "# O Numpy tentará transformar todos os elementos paar um mesmo tipo de dados\n",
    "A2 = np.array([3.14, 4, 2, 3])\n",
    "print(type(A2))\n",
    "print(A2)"
   ]
  },
  {
   "cell_type": "code",
   "execution_count": 8,
   "metadata": {
    "collapsed": false
   },
   "outputs": [
    {
     "name": "stdout",
     "output_type": "stream",
     "text": [
      "<class 'numpy.ndarray'>\n",
      "[ 1.  2.  3.  4.]\n"
     ]
    }
   ],
   "source": [
    "# É Possível determinar o tipo do dado\n",
    "A3 = np.array([1, 2, 3, 4], dtype='float32')\n",
    "print(type(A3))\n",
    "print(A3)"
   ]
  },
  {
   "cell_type": "code",
   "execution_count": 9,
   "metadata": {
    "collapsed": false
   },
   "outputs": [
    {
     "data": {
      "text/plain": [
       "array([[2, 3, 4],\n",
       "       [4, 5, 6],\n",
       "       [6, 7, 8]])"
      ]
     },
     "execution_count": 9,
     "metadata": {},
     "output_type": "execute_result"
    }
   ],
   "source": [
    "# Arrays em Numpy podem ser explicitamete multidimencionais\n",
    "# Exemplo de iniciação de Array como lista de lista\n",
    "np.array([range(i, i + 3) for i in [2, 4, 6]])\n",
    "#np.array([range(i, i + 4) for i in [2, 4]])"
   ]
  },
  {
   "cell_type": "markdown",
   "metadata": {},
   "source": [
    "Inicializações típicas de Arrays:\n",
    "- np.zeros(dimensao, dtype=tipo_de_variavel)\n",
    "- np.ones(dimensao, dtype=tipo_de_variavel)\n",
    "- np.full(dimensao, valor)"
   ]
  },
  {
   "cell_type": "code",
   "execution_count": 164,
   "metadata": {
    "collapsed": false
   },
   "outputs": [
    {
     "name": "stdout",
     "output_type": "stream",
     "text": [
      "array1\n",
      "[0 0 0 0 0 0 0 0 0 0]\n",
      "array2\n",
      "[[ 1.  1.  1.  1.  1.]\n",
      " [ 1.  1.  1.  1.  1.]\n",
      " [ 1.  1.  1.  1.  1.]]\n",
      "array3\n",
      "[[ 3.14  3.14  3.14  3.14  3.14]\n",
      " [ 3.14  3.14  3.14  3.14  3.14]\n",
      " [ 3.14  3.14  3.14  3.14  3.14]]\n"
     ]
    }
   ],
   "source": [
    "# Exemplo de iniciação de Arrays Numpy\n",
    "array1 = np.zeros(10, dtype=int)\n",
    "array2 = np.ones((3, 5), dtype=float)\n",
    "array3 = np.full((3, 5), 3.14)\n",
    "\n",
    "print(\"array1\")\n",
    "print(array1)\n",
    "print(\"array2\")\n",
    "print(array2)\n",
    "print(\"array3\")\n",
    "print(array3)"
   ]
  },
  {
   "cell_type": "code",
   "execution_count": null,
   "metadata": {
    "collapsed": false
   },
   "outputs": [],
   "source": [
    "# Exercício 01 - crie 03 arrays Numpy\n",
    "# array1, de dimensão 7 por 2, com todos elementos iguais a 2.1\n",
    "# array2, vetor de dimensão 10, com todos os valores igauis a 1 em ponto flotuante\n",
    "# array3, de dimensão 2 por 3 por 4, com todos os valores iguais a zero \n",
    "array1 = ?????\n",
    "array2 = ?????\n",
    "array3 = ?????\n",
    "print(array1)\n",
    "print(array2)\n",
    "print(array3)\n"
   ]
  },
  {
   "cell_type": "code",
   "execution_count": 10,
   "metadata": {
    "collapsed": false
   },
   "outputs": [
    {
     "name": "stdout",
     "output_type": "stream",
     "text": [
      "Outros exemplos de iniciação de Arrays Numpy\n",
      "Infira o que faz cada tipo de iniciação\n",
      "array1\n",
      "[ 0  2  4  6  8 10 12 14 16 18]\n",
      "array2\n",
      "[ 0.    0.25  0.5   0.75  1.  ]\n",
      "array3\n",
      "[[ 1.  0.  0.]\n",
      " [ 0.  1.  0.]\n",
      " [ 0.  0.  1.]]\n"
     ]
    }
   ],
   "source": [
    "print(\"Outros exemplos de iniciação de Arrays Numpy\")\n",
    "print(\"Infira o que faz cada tipo de iniciação\")\n",
    "\n",
    "array1 = np.arange(0, 20, 2)\n",
    "array2 =np.linspace(0, 1, 5)\n",
    "array3 = np.eye(3)\n",
    "\n",
    "print(\"array1\")\n",
    "print(array1)\n",
    "print(\"array2\")\n",
    "print(array2)\n",
    "print(\"array3\")\n",
    "print(array3)"
   ]
  },
  {
   "cell_type": "code",
   "execution_count": 168,
   "metadata": {
    "collapsed": false
   },
   "outputs": [
    {
     "name": "stdout",
     "output_type": "stream",
     "text": [
      "Os Arrays NumPy também podem ser inicializados de forma randômica\n",
      "array1 - Iniciação randômica seguindo distribuição Normal\n",
      "[[-1.41353236 -0.16680396  1.27015257]\n",
      " [ 1.00112981  0.80885168  0.64636316]\n",
      " [ 1.14252016  1.69322375  0.53995364]]\n",
      "array2 - Iniciação randômica seguindo distribuição Uniforme ente 0 e 1\n",
      "[[ 0.87521032  0.6276163   0.05248453]\n",
      " [ 0.74471239  0.17513262  0.33201746]\n",
      " [ 0.12278367  0.44700992  0.14538765]]\n",
      "array3 - Iniciação randômica com números inteioros\n",
      "[[1 1 0]\n",
      " [0 1 1]\n",
      " [1 1 1]]\n"
     ]
    }
   ],
   "source": [
    "print(\"Os Arrays NumPy também podem ser inicializados de forma randômica\")\n",
    "media = 0\n",
    "desvio_padrao = 1\n",
    "num_linhas = 3\n",
    "num_colunas = 3\n",
    "inicio = 0 # início do intervalo da distribuição linear - fechado\n",
    "fim = 2    # fim do intervalo da distribuição linear - aberto\n",
    "           # o intervalo é [inicio, fim)\n",
    "\n",
    "array1 = np.random.normal(media,desvio_padrao, (num_linhas, num_colunas))\n",
    "array2 = np.random.random((num_linhas, num_colunas))\n",
    "array3 = np.random.randint(inicio,fim, (num_linhas, num_colunas))\n",
    "\n",
    "print(\"array1 - Iniciação randômica seguindo distribuição Normal\")\n",
    "print(array1)\n",
    "print(\"array2 - Iniciação randômica seguindo distribuição Uniforme ente 0 e 1\")\n",
    "print(array2)\n",
    "print(\"array3 - Iniciação randômica com números inteioros\")\n",
    "print(array3)"
   ]
  },
  {
   "cell_type": "code",
   "execution_count": 11,
   "metadata": {
    "collapsed": false
   },
   "outputs": [
    {
     "name": "stdout",
     "output_type": "stream",
     "text": [
      "x3 ndim:  3\n",
      "x3 shape: (3, 4, 5)\n",
      "x3 size:  60\n",
      "x3 dtype: int64\n",
      "x3 itemsize: 8 bytes\n",
      "x3 nbytes: 480 bytes\n"
     ]
    }
   ],
   "source": [
    "# Exemplos de iniciação ramdômica de arrays Numpy\n",
    "import numpy as np\n",
    "\n",
    "np.random.seed(0) # Inciação da semente randômica\n",
    "x1 = np.random.randint(10, size=6) # Array unidimensional\n",
    "x2 = np.random.randint(10, size=(3, 4)) # Array bi-dimensional\n",
    "x3 = np.random.randint(10, size=(3, 4, 5)) # Array tri-dimensional\n",
    "\n",
    "# Exemplos de de métodos para informar os tipos de dados dos Arrays\n",
    "\n",
    "print(\"x3 ndim: \", x3.ndim)\n",
    "print(\"x3 shape:\", x3.shape)\n",
    "print(\"x3 size: \", x3.size)\n",
    "print(\"x3 dtype:\", x3.dtype)\n",
    "print(\"x3 itemsize:\", x3.itemsize, \"bytes\")\n",
    "print(\"x3 nbytes:\", x3.nbytes, \"bytes\")"
   ]
  },
  {
   "cell_type": "markdown",
   "metadata": {},
   "source": [
    "Acesso de elementos e seguimentos de Array Numpy\n",
    "- Segue o mesmo modo de acesso em lista"
   ]
  },
  {
   "cell_type": "code",
   "execution_count": 12,
   "metadata": {
    "collapsed": false
   },
   "outputs": [
    {
     "name": "stdout",
     "output_type": "stream",
     "text": [
      "[5 0 3 3 7 9]\n",
      "<class 'numpy.ndarray'>\n"
     ]
    },
    {
     "data": {
      "text/plain": [
       "array([5, 0, 3, 3, 7, 9])"
      ]
     },
     "execution_count": 12,
     "metadata": {},
     "output_type": "execute_result"
    }
   ],
   "source": [
    "# Array x1, definido anteriormente\n",
    "print(x1)\n",
    "print(type(x1))\n",
    "x1"
   ]
  },
  {
   "cell_type": "code",
   "execution_count": 171,
   "metadata": {
    "collapsed": false
   },
   "outputs": [
    {
     "name": "stdout",
     "output_type": "stream",
     "text": [
      "Array x1 -->  [5 0 3 3 7 9]\n",
      "x1[0] =  5\n",
      "x1[-1] =  9\n",
      "x1[-2] =  7\n"
     ]
    }
   ],
   "source": [
    "# Exemplos de acesso de elementos de um array Numpy unidimensional\n",
    "print(\"Array x1 --> \", x1)\n",
    "print(\"x1[0] = \", x1[0])\n",
    "print(\"x1[-1] = \", x1[-1])\n",
    "print(\"x1[-2] = \", x1[-2])\n",
    "#print(\"x1[-7] = \", x1[-7])  # Isto irá funcionar???"
   ]
  },
  {
   "cell_type": "code",
   "execution_count": 172,
   "metadata": {
    "collapsed": false
   },
   "outputs": [
    {
     "name": "stdout",
     "output_type": "stream",
     "text": [
      "[[3 5 2 4]\n",
      " [7 6 8 8]\n",
      " [1 6 7 7]]\n",
      "<class 'numpy.ndarray'>\n"
     ]
    }
   ],
   "source": [
    "# Array x2, definido anteriormente\n",
    "print(x2)\n",
    "print(type(x2))\n"
   ]
  },
  {
   "cell_type": "code",
   "execution_count": 13,
   "metadata": {
    "collapsed": false
   },
   "outputs": [
    {
     "name": "stdout",
     "output_type": "stream",
     "text": [
      "x2[0,0]  =  3\n",
      "x2[2,-1] =   7\n",
      "x2[0,0]  =  10\n",
      "x2[2,-1] =   2\n"
     ]
    }
   ],
   "source": [
    "# Exemplos de acesso de elementos de um array Numpy multidimensional\n",
    "print(\"x2[0,0]  = \", x2[0,0])\n",
    "print(\"x2[2,-1] =  \",x2[2,-1])\n",
    "x2[0,0] = 10\n",
    "x2[2,-1] = 2.345\n",
    "print(\"x2[0,0]  = \", x2[0,0])\n",
    "print(\"x2[2,-1] =  \",x2[2,-1])  # será um número inteiro ou ponto flutuante?"
   ]
  },
  {
   "cell_type": "code",
   "execution_count": 174,
   "metadata": {
    "collapsed": false
   },
   "outputs": [
    {
     "name": "stdout",
     "output_type": "stream",
     "text": [
      "x       =  [0 1 2 3 4 5 6 7 8 9]\n",
      "x[0:2]  =  [0 1]\n",
      "x[2:-1] =  [2 3 4 5 6 7 8]\n",
      "x[:-1]  =  [0 1 2 3 4 5 6 7 8]\n",
      "x[1:]   =  [1 2 3 4 5 6 7 8 9]\n",
      "x[:]    =  [0 1 2 3 4 5 6 7 8 9]\n"
     ]
    }
   ],
   "source": [
    "# Exemplos de acesso de sub-arraays de um array Numpy unidimensional\n",
    "x = np.arange(10)\n",
    "print(\"x       = \", x)\n",
    "print(\"x[0:2]  = \", x[0:2])\n",
    "print(\"x[2:-1] = \", x[2:-1])\n",
    "print(\"x[:-1]  = \", x[:-1])\n",
    "print(\"x[1:]   = \", x[1:])\n",
    "print(\"x[:]    = \", x[:])"
   ]
  },
  {
   "cell_type": "code",
   "execution_count": 176,
   "metadata": {
    "collapsed": false
   },
   "outputs": [
    {
     "name": "stdout",
     "output_type": "stream",
     "text": [
      "x       =  [0 1 2 3 4 5 6 7 8 9]\n",
      "\n",
      "x[::2]  =  [0 2 4 6 8]\n",
      "x[::3]  =  [0 3 6 9]\n",
      "x[1::2] =  [1 3 5 7 9]\n",
      "x[::-1] =  [9 8 7 6 5 4 3 2 1 0]\n",
      "x[6::-2]=  [6 4 2 0]\n",
      "\n",
      "x[4:8:-2]=  []\n",
      "\n",
      "x[1:8:2]=  [1 3 5 7]\n"
     ]
    }
   ],
   "source": [
    "# Exemplos de acesso de vários elementos um array Numpy unidimensional\n",
    "x = np.arange(10)\n",
    "print(\"x       = \", x)\n",
    "print()\n",
    "print(\"x[::2]  = \", x[::2]) # acesso desde o primeiro elemento com passo 2\n",
    "print(\"x[::3]  = \", x[::3]) # acesso desde o primeiro elemento com passo 3\n",
    "print(\"x[1::2] = \", x[1::2]) # acesso desde o segundo elemento com passo 2\n",
    "print(\"x[::-1] = \", x[::-1]) # acesso os elemento de modo reverso\n",
    "print(\"x[6::-2]= \", x[6::-2]) # acesso desde o sexto os elemento com passo -2\n",
    "print()\n",
    "print(\"x[4:8:-2]= \", x[4:8:-2]) # ????\n",
    "print()\n",
    "print(\"x[1:8:2]= \", x[1:8:2]) # caso geral\n"
   ]
  },
  {
   "cell_type": "code",
   "execution_count": 177,
   "metadata": {
    "collapsed": false
   },
   "outputs": [
    {
     "name": "stdout",
     "output_type": "stream",
     "text": [
      "x2 = \n",
      "[[10  5  2  4]\n",
      " [ 7  6  8  8]\n",
      " [ 1  6  7  2]]\n"
     ]
    }
   ],
   "source": [
    "# Exercício - acesso de sub-arraays de um array Numpy multidimensional\n",
    "print(\"x2 = \")\n",
    "print(x2)"
   ]
  },
  {
   "cell_type": "code",
   "execution_count": 14,
   "metadata": {
    "collapsed": false
   },
   "outputs": [
    {
     "name": "stdout",
     "output_type": "stream",
     "text": [
      "x2[:2, :3] = \n",
      "[[10  5  2]\n",
      " [ 7  6  8]]\n"
     ]
    }
   ],
   "source": [
    "print(\"x2[:2, :3] = \")\n",
    "print(x2[:2, :3])"
   ]
  },
  {
   "cell_type": "code",
   "execution_count": 15,
   "metadata": {
    "collapsed": false
   },
   "outputs": [
    {
     "name": "stdout",
     "output_type": "stream",
     "text": [
      "x2[:3, ::2] = \n",
      "[[10  2]\n",
      " [ 7  8]\n",
      " [ 1  7]]\n"
     ]
    }
   ],
   "source": [
    "print(\"x2[:3, ::2] = \")\n",
    "print(x2[:3, ::2])\n"
   ]
  },
  {
   "cell_type": "code",
   "execution_count": 16,
   "metadata": {},
   "outputs": [
    {
     "data": {
      "text/plain": [
       "array([[10,  5,  2,  4],\n",
       "       [ 7,  6,  8,  8],\n",
       "       [ 1,  6,  7,  2]])"
      ]
     },
     "execution_count": 16,
     "metadata": {},
     "output_type": "execute_result"
    }
   ],
   "source": [
    "x2"
   ]
  },
  {
   "cell_type": "code",
   "execution_count": null,
   "metadata": {
    "collapsed": false
   },
   "outputs": [],
   "source": [
    "# Exercício - Obtenha de sub-arrays multidimensionais\n",
    "print(\"Dada a matriz x2\")\n",
    "print(\"Obter uma sub matriz que corresponde às linhas ímpares e as colunas pares, escritas de modo reservo.\")\n",
    "# ínicio do código\n",
    "\n",
    "# fim do código"
   ]
  },
  {
   "cell_type": "markdown",
   "metadata": {},
   "source": [
    "Um ponto muito importante é que sub-arrays em Numpy não fazem cópia do array original, mas sim são visões (referências aos mesmos espaços de endereço).\n",
    "- Isto se deve por questão de eficiência.\n",
    "- Em lista, ao contrário de Arrays, sub-listas são cópias de elementos da lista original.\n",
    "\n",
    "Os exemplos abaixo evidenciam isto."
   ]
  },
  {
   "cell_type": "code",
   "execution_count": 180,
   "metadata": {
    "collapsed": false
   },
   "outputs": [
    {
     "name": "stdout",
     "output_type": "stream",
     "text": [
      "x2 = \n",
      "[[10  5  2  4]\n",
      " [ 7  6  8  8]\n",
      " [ 1  6  7  2]]\n",
      "\n",
      "x2_sub\n",
      "[[10  5]\n",
      " [ 7  6]]\n",
      "\n",
      "x2_sub[0, 0] = 99\n",
      "[[99  5]\n",
      " [ 7  6]]\n",
      "\n",
      "Novos valores para x2\n",
      "x2 = \n",
      "[[99  5  2  4]\n",
      " [ 7  6  8  8]\n",
      " [ 1  6  7  2]]\n"
     ]
    }
   ],
   "source": [
    "# Exemplos de sub-arrays como vistas dos arrays originais\n",
    "print(\"x2 = \")\n",
    "print(x2)\n",
    "\n",
    "x2_sub = x2[:2, :2]\n",
    "print()\n",
    "print(\"x2_sub\")\n",
    "print(x2_sub)\n",
    "\n",
    "x2_sub[0, 0] = 99\n",
    "print()\n",
    "print(\"x2_sub[0, 0] = 99\")\n",
    "print(x2_sub)\n",
    "\n",
    "print(\"\")\n",
    "print(\"Novos valores para x2\")\n",
    "print(\"x2 = \")\n",
    "print(x2)"
   ]
  },
  {
   "cell_type": "code",
   "execution_count": 17,
   "metadata": {
    "collapsed": false
   },
   "outputs": [
    {
     "name": "stdout",
     "output_type": "stream",
     "text": [
      "Como, então, se pode fazer cópia de arrays Numpy?\n"
     ]
    }
   ],
   "source": [
    "print(\"Como, então, se pode fazer cópia de arrays Numpy?\")"
   ]
  },
  {
   "cell_type": "code",
   "execution_count": 18,
   "metadata": {
    "collapsed": false
   },
   "outputs": [
    {
     "name": "stdout",
     "output_type": "stream",
     "text": [
      "Cópias de Arrays Numpy são realizados via o método .copy()\n",
      "x2 = \n",
      "[[10  5  2  4]\n",
      " [ 7  6  8  8]\n",
      " [ 1  6  7  2]]\n",
      "\n",
      "x2_sub_copy\n",
      "[[10  5]\n",
      " [ 7  6]]\n",
      "\n",
      "x2_sub_cop - atribuir 42 para a posição [0,0]\n",
      "[[42  5]\n",
      " [ 7  6]]\n",
      "\n",
      "Verificação dos valores de x2\n",
      "[[10  5  2  4]\n",
      " [ 7  6  8  8]\n",
      " [ 1  6  7  2]]\n"
     ]
    }
   ],
   "source": [
    "print(\"Cópias de Arrays Numpy são realizados via o método .copy()\")\n",
    "print(\"x2 = \")\n",
    "print(x2)\n",
    "\n",
    "x2_sub_copy = x2[:2, :2].copy()\n",
    "print()\n",
    "print(\"x2_sub_copy\")\n",
    "print(x2_sub_copy)\n",
    "\n",
    "x2_sub_copy[0, 0] = 42\n",
    "print()\n",
    "print(\"x2_sub_cop - atribuir 42 para a posição [0,0]\")\n",
    "print(x2_sub_copy)\n",
    "\n",
    "print()\n",
    "print(\"Verificação dos valores de x2\")\n",
    "print(x2)"
   ]
  },
  {
   "cell_type": "code",
   "execution_count": 183,
   "metadata": {
    "collapsed": false
   },
   "outputs": [
    {
     "name": "stdout",
     "output_type": "stream",
     "text": [
      "w = \n",
      "[1 2 3 4 5 6 7 8 9]\n"
     ]
    }
   ],
   "source": [
    "# Concatenação de Arrays Numpy\n",
    "\n",
    "x = np.array([1, 2, 3])\n",
    "y = np.array([4, 5])\n",
    "z = np.array([6,7,8,9])\n",
    "w = np.concatenate([x, y,z])\n",
    "print(\"w = \")\n",
    "print(w)"
   ]
  },
  {
   "cell_type": "code",
   "execution_count": 19,
   "metadata": {
    "collapsed": false
   },
   "outputs": [
    {
     "name": "stdout",
     "output_type": "stream",
     "text": [
      "mat1 = \n",
      "[[1 2 3]\n",
      " [4 5 6]]\n",
      "\n",
      "mat2 = \n",
      "[[1 2 3]\n",
      " [4 5 6]\n",
      " [1 2 3]\n",
      " [4 5 6]]\n",
      "\n",
      "mat3 = \n",
      "[[1 2 3 1 2 3]\n",
      " [4 5 6 4 5 6]]\n"
     ]
    }
   ],
   "source": [
    "# Concatenação de Arrays bidimensionais Numpy - Matrizes\n",
    "mat1 = np.array([[1, 2, 3],[4, 5, 6]])\n",
    "print(\"mat1 = \")\n",
    "print(mat1)\n",
    "\n",
    "mat2 = np.concatenate([mat1,mat1])\n",
    "print()\n",
    "print(\"mat2 = \")\n",
    "print(mat2)\n",
    "\n",
    "mat3 = np.concatenate([mat1,mat1], axis=1)\n",
    "print()\n",
    "print(\"mat3 = \")\n",
    "print(mat3)"
   ]
  },
  {
   "cell_type": "code",
   "execution_count": null,
   "metadata": {
    "collapsed": false
   },
   "outputs": [],
   "source": [
    "# Separando Arrays Numpy\n",
    "x = [1, 2, 3, 4, 5, 6, 7, 8, 9]\n",
    "x1, x2, x3 = np.split(x, [3, 5])\n",
    "print(\"x1, x2, x3\")\n",
    "print(x1, x2, x3)\n",
    "\n",
    "y1, y2, y3, y4 = np.split(x, [2, 5, 7])\n",
    "print(\"y1, y2, y3, y4\")\n",
    "print(y1, y2, y3, y4)\n"
   ]
  },
  {
   "cell_type": "code",
   "execution_count": null,
   "metadata": {
    "collapsed": false
   },
   "outputs": [],
   "source": [
    "# Exercício - Divida o array vet em outros 5 de mesmo tamanho\n",
    "\n",
    "vet = [1,2,3,4,5,6,7,8,9,10]\n",
    "print(\"????\")"
   ]
  },
  {
   "cell_type": "markdown",
   "metadata": {},
   "source": [
    "Programando eficientemente em Python\n",
    "- Python é uma linguagem interpretada, escrita em C.\n",
    "- Chamada de métodos em Python levam a chamadas de funções em C.\n",
    "- Programação vetorizada aumenta consideravelmente o desempenho dos programas Python.\n",
    "    - usa funções com tipos pré-tipados"
   ]
  },
  {
   "cell_type": "code",
   "execution_count": 21,
   "metadata": {
    "collapsed": false
   },
   "outputs": [
    {
     "name": "stdout",
     "output_type": "stream",
     "text": [
      "[ 0.16666667  1.          0.25        0.25        0.125     ]\n"
     ]
    }
   ],
   "source": [
    "# Exemplo de programação estilo escalar \n",
    "# Função para obter os valores recíprocos (inversos) dos elementos de um Array Numpy\n",
    "\n",
    "import numpy as np\n",
    "\n",
    "np.random.seed(0)   # semente\n",
    "\n",
    "def calcular_reciprocos(values):\n",
    "  output = np.empty(len(values))\n",
    "  for i in range(len(values)):\n",
    "   output[i] = 1.0 / values[i]\n",
    "  return output\n",
    "\n",
    "valores = np.random.randint(1, 10, size=5)\n",
    "valores_inversos = calcular_reciprocos(valores)\n",
    "print(valores_inversos)"
   ]
  },
  {
   "cell_type": "code",
   "execution_count": 22,
   "metadata": {
    "collapsed": false
   },
   "outputs": [
    {
     "name": "stdout",
     "output_type": "stream",
     "text": [
      "2.18 s ± 54.3 ms per loop (mean ± std. dev. of 7 runs, 1 loop each)\n"
     ]
    }
   ],
   "source": [
    "# Exemplo - Medição de tempo gasto para executar a função calcular_reciprocos(.) \n",
    "big_array = np.random.randint(1, 100, size=1000000)\n",
    "%timeit calcular_reciprocos(big_array)"
   ]
  },
  {
   "cell_type": "code",
   "execution_count": 23,
   "metadata": {
    "collapsed": false
   },
   "outputs": [
    {
     "name": "stdout",
     "output_type": "stream",
     "text": [
      "[ 0.16666667  1.          0.25        0.25        0.125     ]\n",
      "\n",
      "[ 0.16666667  1.          0.25        0.25        0.125     ]\n"
     ]
    }
   ],
   "source": [
    "# Exemplo de programação vetorizada\n",
    "\n",
    "print(calcular_reciprocos(valores))  # programação escalar\n",
    "print()\n",
    "print(1.0 / valores)                 # programação vetorizada\n"
   ]
  },
  {
   "cell_type": "code",
   "execution_count": 24,
   "metadata": {
    "collapsed": false
   },
   "outputs": [
    {
     "name": "stdout",
     "output_type": "stream",
     "text": [
      "4.91 ms ± 243 µs per loop (mean ± std. dev. of 7 runs, 100 loops each)\n"
     ]
    }
   ],
   "source": [
    "# Exemplo: medição de tempo de programação vetorizada\n",
    "%timeit (1.0 / big_array)"
   ]
  },
  {
   "cell_type": "code",
   "execution_count": 191,
   "metadata": {
    "collapsed": false
   },
   "outputs": [
    {
     "name": "stdout",
     "output_type": "stream",
     "text": [
      "Você pode explicar o que faz a linha de código abaixo?\n"
     ]
    },
    {
     "data": {
      "text/plain": [
       "array([[  1,   2,   4],\n",
       "       [  8,  16,  32],\n",
       "       [ 64, 128, 256]])"
      ]
     },
     "execution_count": 191,
     "metadata": {},
     "output_type": "execute_result"
    }
   ],
   "source": [
    "# Exemplo de programação vetorizada\n",
    "print(\"Você pode explicar o que faz a linha de código abaixo?\")\n",
    "x = 2 ** np.arange(9)\n",
    "x1 = x.reshape((3, 3))\n",
    "x1"
   ]
  },
  {
   "cell_type": "code",
   "execution_count": 192,
   "metadata": {
    "collapsed": false
   },
   "outputs": [
    {
     "name": "stdout",
     "output_type": "stream",
     "text": [
      "Você pode explicar o que faz a linha de código abaixo?\n"
     ]
    },
    {
     "data": {
      "text/plain": [
       "array([[  1,   2,   4],\n",
       "       [  8,  16,  32],\n",
       "       [ 64, 128, 256]])"
      ]
     },
     "execution_count": 192,
     "metadata": {},
     "output_type": "execute_result"
    }
   ],
   "source": [
    "# Exemplo de programação vetorizada\n",
    "print(\"Você pode explicar o que faz a linha de código abaixo?\")\n",
    "x = 2 ** np.arange(9).reshape((3, 3))\n",
    "x"
   ]
  },
  {
   "cell_type": "code",
   "execution_count": null,
   "metadata": {},
   "outputs": [],
   "source": [
    "# Exemplo de programação vetorizada\n",
    "print(\"Você pode explicar o que faz a linha de código abaixo?\")\n",
    "x =  np.arange(9).reshape((3, 3)) ** 2\n",
    "x"
   ]
  },
  {
   "cell_type": "code",
   "execution_count": null,
   "metadata": {},
   "outputs": [],
   "source": [
    "# Exemplo de programação vetorizada\n",
    "print(\"Você pode explicar o que faz a linha de código abaixo?\")\n",
    "x = np.arange(4).reshape((2, 2)) ** np.arange(4).reshape((2, 2))\n",
    "x"
   ]
  },
  {
   "cell_type": "code",
   "execution_count": 25,
   "metadata": {
    "collapsed": false
   },
   "outputs": [
    {
     "name": "stdout",
     "output_type": "stream",
     "text": [
      "Você pode explicar o que faz a linha de código abaixo?\n"
     ]
    },
    {
     "data": {
      "text/plain": [
       "array([[[  1,   2],\n",
       "        [  4,   8]],\n",
       "\n",
       "       [[ 16,  32],\n",
       "        [ 64, 128]]])"
      ]
     },
     "execution_count": 25,
     "metadata": {},
     "output_type": "execute_result"
    }
   ],
   "source": [
    "# Exemplo de programação vetorizada\n",
    "print(\"Você pode explicar o que faz a linha de código abaixo?\")\n",
    "x = 2 ** np.arange(8).reshape((2,2,2))\n",
    "x"
   ]
  },
  {
   "cell_type": "markdown",
   "metadata": {},
   "source": [
    "Os operadores matemáticos em Numpy operam elemento a elemento\n",
    "- Mais a frente veremos como implementar operações matriciais, no estilo Matlab.\n",
    "- Exemplos de operadores matemáticos sobre arrays\n",
    "        - +, - , *,/, **, //, % \n"
   ]
  },
  {
   "cell_type": "code",
   "execution_count": 194,
   "metadata": {
    "collapsed": false
   },
   "outputs": [
    {
     "name": "stdout",
     "output_type": "stream",
     "text": [
      "x = \n",
      "[1 2 3 4]\n",
      "\n",
      "x + 10 = \n",
      "[11 12 13 14]\n",
      "\n",
      "-(0.5*x) + 2 = \n",
      "[ 1.5  1.   0.5  0. ]\n",
      "\n",
      "y1 = \n",
      "[2 4 6 8]\n",
      "\n",
      "y2 = \n",
      "[2 4 6 8]\n",
      "\n",
      "y3 = \n",
      "[ 1  4  9 16]\n",
      "\n",
      "y4 = \n",
      "[  1   4  27 256]\n"
     ]
    }
   ],
   "source": [
    "# Exemplo de programação vetorizada\n",
    "\n",
    "x = np.array([0,1,2,3])\n",
    "y1 = 2*x[::2]\n",
    "y2 = x * 2\n",
    "y3 = x * x\n",
    "y4 = x ** x\n",
    "print(\"x = \")\n",
    "print(x)\n",
    "print()\n",
    "print(\"x + 10 = \")\n",
    "print(x + 10)\n",
    "print()\n",
    "print(\"-(0.5*x) + 2 = \")\n",
    "print(-(0.5*x) + 2 )\n",
    "print()\n",
    "print(\"y1 = \")\n",
    "print(y1)\n",
    "print()\n",
    "print(\"y2 = \")\n",
    "print(y2)\n",
    "print()\n",
    "print(\"y3 = \")\n",
    "print(y3)\n",
    "print()\n",
    "print(\"y4 = \")\n",
    "print(y4)"
   ]
  },
  {
   "cell_type": "markdown",
   "metadata": {},
   "source": [
    "Operadores matemáticos são chamadas de métodos em Numpy\n",
    "- Operador Adição (+) , equivale a np.add Addition (por exemplo, 1 + 1 = 2)\n",
    "- Operador Subtração (-),equivale a np.subtract Subtraction (por exemplo, 3 - 2 = 1)\n",
    "- Operador Nagativo Unário (-), equivale a np.negative (por exemplo, -2)\n",
    "- Operador Multiplicação (*), equivale a np.multiply (por exemplo, 2 * 3 = 6)\n",
    "- Operador Divisão (/), equivale a np.divide (por exemplo, 3 / 2 = 1.5)\n",
    "- Operador Divisão Inteira (//), equivale a np.floor_divide (por exemplo, 7 // 2 = 3)\n",
    "- Operador Exponenciação, equivale a np.power\n",
    "- Operador módulo (%), equivale a np.mod (por exemplo, 7 % 2 = 1)"
   ]
  },
  {
   "cell_type": "code",
   "execution_count": 195,
   "metadata": {
    "collapsed": false
   },
   "outputs": [
    {
     "name": "stdout",
     "output_type": "stream",
     "text": [
      "x = \n",
      "[1 2 3 4]\n",
      "\n",
      "x + 10 = \n",
      "[11 12 13 14]\n",
      "\n",
      "x ** 2 = \n",
      "[ 1  4  9 16]\n"
     ]
    }
   ],
   "source": [
    "# Exmplo de método associado com operador\n",
    "print(\"x = \")\n",
    "print(x)\n",
    "\n",
    "print()\n",
    "print(\"x + 10 = \")\n",
    "print(np.add(x, 10))\n",
    "\n",
    "print()\n",
    "print(\"x ** 2 = \")\n",
    "print(np.power(x, 2))\n"
   ]
  },
  {
   "cell_type": "code",
   "execution_count": 196,
   "metadata": {
    "collapsed": false
   },
   "outputs": [
    {
     "name": "stdout",
     "output_type": "stream",
     "text": [
      "[ 0.  0.  0.  0.  0.]\n",
      "[  0.  10.  20.  30.  40.]\n"
     ]
    }
   ],
   "source": [
    "# Exemplo de método associado com operador multiplicação e se especificando a variável de saída\n",
    "x = np.arange(5)\n",
    "y = np.empty(5)   # cria um array de 5 posições\n",
    "print(y)\n",
    "np.multiply(x, 10, out=y)\n",
    "# y = np.multiply(x, 10)\n",
    "print(y)"
   ]
  },
  {
   "cell_type": "markdown",
   "metadata": {},
   "source": [
    "Numpy possui rico suporte de funções e constantes mataméticas.\n",
    "- Trigonometria\n",
    "        - valor de pi --> np.pi\n",
    "        - valor de e --> np.e\n",
    "        - função seno --> np.sin(radiano)\n",
    "        - função cosseno --> np.cos(radiano)\n",
    "        - função tangente --> np.tan(radiano)\n",
    "        - função arcoseno -->  np.arcsin(radiano)\n",
    "        - função arcocosseno -->  np.arccos(radiano)\n",
    "        - função arcotangente --> np.arctan(radiano)"
   ]
  },
  {
   "cell_type": "code",
   "execution_count": 26,
   "metadata": {
    "collapsed": false
   },
   "outputs": [
    {
     "name": "stdout",
     "output_type": "stream",
     "text": [
      "Valor de PI -->  3.141592653589793\n",
      "Valor de e -->  2.718281828459045\n",
      "Valor de seno(pi/2) -->  1.0\n",
      "Valor de teta = \n",
      "[ 0.          0.78539816  1.57079633  2.35619449  3.14159265]\n",
      "Valor de seno(teta) = \n",
      "[  0.00000000e+00   7.07106781e-01   1.00000000e+00   7.07106781e-01\n",
      "   1.22464680e-16]\n"
     ]
    }
   ],
   "source": [
    "# Exemplos de funções trigonométricas em Numpy\n",
    "print(\"Valor de PI --> \", np.pi)\n",
    "print( \"Valor de e --> \", np.e)\n",
    "print( \"Valor de seno(pi/2) --> \", np.sin(np.pi/2)) \n",
    "\n",
    "teta = np.array([0, np.pi/4, np.pi/2, np.pi*3/4, np.pi])\n",
    "print(\"Valor de teta = \")\n",
    "print(teta)\n",
    "print(\"Valor de seno(teta) = \")\n",
    "print(np.sin(teta))"
   ]
  },
  {
   "cell_type": "markdown",
   "metadata": {},
   "source": [
    "Exercíco:\n",
    "Dada a seguinte equação: \n",
    "$\\newcommand{\\sen}{{\\rm sen}}$\n",
    "\n",
    "$ y = \\sqrt[2]{1 - \\sen^2(k.\\pi/4)} $\n",
    "\n"
   ]
  },
  {
   "cell_type": "code",
   "execution_count": null,
   "metadata": {
    "collapsed": false
   },
   "outputs": [],
   "source": [
    "# Exercício - Calcule e imprima o valor de y\n",
    "# Sem utilização do comando for\n",
    "\n",
    "#k = np.array(range(8))\n",
    "k = np.arange(8)\n",
    "\n",
    "#print(\"???????\")\n",
    "\n",
    "print(k)\n",
    "print(y)"
   ]
  },
  {
   "cell_type": "code",
   "execution_count": null,
   "metadata": {
    "collapsed": false
   },
   "outputs": [],
   "source": [
    "# Exercício - Calcule e imprima o IMC dos alunos\n",
    "# 01 polegada = 2.54 cm = 0.0254 m\n",
    "# 01 libra = 0.453592 Kg\n",
    "# Altura dos alunos em polegadas\n",
    "\n",
    "altura_polenada = [74, 74, 72, 72, 73, 69, 69, 71, 76, 71, 73, 73, 74, 74, 69, 70, 73, 75, 78, 79, 76, 74, 76, 72, 71, 75, 77, 74, 73, 74, 78, 73, 75, 73, 75, 75, 74, 69, 71, 74, 73, 73, 76, 74, 74, 70, 72, 77, 74, 70, 73, 75, 76, 76, 78, 74, 74, 76, 77, 81, 78, 75, 77, 75, 76, 74, 72, 72, 75, 73, 73, 73, 70, 70, 70, 76, 68, 71, 72, 75, 75, 75, 75, 68, 74, 78, 71, 73, 76, 74, 74, 79, 75, 73, 76, 74, 74, 73, 72, 74, 73, 74, 72, 73, 69, 72, 73, 75, 75, 73, 72, 72, 76, 74, 72, 77, 74, 77, 75, 76, 80, 74, 74, 75, 78, 73, 73, 74, 75, 76, 71, 73, 74, 76, 76, 74, 73, 74, 70, 72, 73, 73, 73, 73, 71, 74, 74, 72, 74, 71, 74, 73, 75, 75, 79, 73, 75, 76, 74, 76, 78, 74, 76, 72, 74, 76, 74, 75, 78, 75, 72, 74, 72, 74, 70, 71, 70, 75, 71, 71, 73, 72, 71, 73, 72, 75, 74, 74, 75, 73, 77, 73, 76, 75, 74, 76, 75, 73, 71, 76, 75, 72, 71, 77, 73, 74, 71, 72, 74, 75, 73, 72, 75, 75, 74, 72, 74, 71, 70, 74, 77, 77, 75, 75, 78, 75, 76, 73, 75, 75, 79, 77, 76, 71, 75, 74, 69, 71, 76, 72, 72, 70, 72, 73, 71, 72, 71, 73, 72, 73, 74, 74, 72, 75, 74, 74, 77, 75, 73, 72, 71, 74, 77, 75, 75, 75, 78, 78, 74, 76, 78, 76, 70, 72, 80, 74, 74, 71, 70, 72, 71, 74, 71, 72, 71, 74, 69, 76, 75, 75, 76, 73, 76, 73, 77, 73, 72, 72, 77, 77, 71, 74, 74, 73, 78, 75, 73, 70, 74, 72, 73, 73, 75, 75, 74, 76, 73, 74, 75, 75, 72, 73, 73, 72, 74, 78, 76, 73, 74, 75, 70, 75, 71, 72, 78, 75, 73, 73, 71, 75, 77, 72, 69, 73, 74, 72, 70, 75, 70, 72, 72, 74, 73, 74, 76, 75, 80, 72, 75, 73, 74, 74, 73, 75, 75, 71, 73, 75, 74, 74, 72, 74, 74, 74, 73, 76, 75, 72, 73, 73, 73, 72, 72, 72, 72, 71, 75, 75, 74, 73, 75, 79, 74, 76, 73, 74, 74, 72, 74, 74, 75, 78, 74, 74, 74, 77, 70, 73, 74, 73, 71, 75, 71, 72, 77, 74, 70, 77, 73, 72, 76, 71, 76, 78, 75, 73, 78, 74, 79, 75, 76, 72, 75, 75, 70, 72, 70, 74, 71, 76, 73, 76, 71, 69, 72, 72, 69, 73, 69, 73, 74, 74, 72, 71, 72, 72, 76, 76, 76, 74, 76, 75, 71, 72, 71, 73, 75, 76, 75, 71, 75, 74, 72, 73, 73, 73, 73, 76, 72, 76, 73, 73, 73, 75, 75, 77, 73, 72, 75, 70, 74, 72, 80, 71, 71, 74, 74, 73, 75, 76, 73, 77, 72, 73, 77, 76, 71, 75, 73, 74, 77, 71, 72, 73, 69, 73, 70, 74, 76, 73, 73, 75, 73, 79, 74, 73, 74, 77, 75, 74, 73, 77, 73, 77, 74, 74, 73, 77, 74, 77, 75, 77, 75, 71, 74, 70, 79, 72, 72, 70, 74, 74, 72, 73, 72, 74, 74, 76, 82, 74, 74, 70, 73, 73, 74, 77, 72, 76, 73, 73, 72, 74, 74, 71, 72, 75, 74, 74, 77, 70, 71, 73, 76, 71, 75, 74, 72, 76, 79, 76, 73, 76, 78, 75, 76, 72, 72, 73, 73, 75, 71, 76, 70, 75, 74, 75, 73, 71, 71, 72, 73, 73, 72, 69, 73, 78, 71, 73, 75, 76, 70, 74, 77, 75, 79, 72, 77, 73, 75, 75, 75, 73, 73, 76, 77, 75, 70, 71, 71, 75, 74, 69, 70, 75, 72, 75, 73, 72, 72, 72, 76, 75, 74, 69, 73, 72, 72, 75, 77, 76, 80, 77, 76, 79, 71, 75, 73, 76, 77, 73, 76, 70, 75, 73, 75, 70, 69, 71, 72, 72, 73, 70, 70, 73, 76, 75, 72, 73, 79, 71, 72, 74, 74, 74, 72, 76, 76, 72, 72, 71, 72, 72, 70, 77, 74, 72, 76, 71, 76, 71, 73, 70, 73, 73, 72, 71, 71, 71, 72, 72, 74, 74, 74, 71, 72, 75, 72, 71, 72, 72, 72, 72, 74, 74, 77, 75, 73, 75, 73, 76, 72, 77, 75, 72, 71, 71, 75, 72, 73, 73, 71, 70, 75, 71, 76, 73, 68, 71, 72, 74, 77, 72, 76, 78, 81, 72, 73, 76, 72, 72, 74, 76, 73, 76, 75, 70, 71, 74, 72, 73, 76, 76, 73, 71, 68, 71, 71, 74, 77, 69, 72, 76, 75, 76, 75, 76, 72, 74, 76, 74, 72, 75, 78, 77, 70, 72, 79, 74, 71, 68, 77, 75, 71, 72, 70, 72, 72, 73, 72, 74, 72, 72, 75, 72, 73, 74, 72, 78, 75, 72, 74, 75, 75, 76, 74, 74, 73, 74, 71, 74, 75, 76, 74, 76, 76, 73, 75, 75, 74, 68, 72, 75, 71, 70, 72, 73, 72, 75, 74, 70, 76, 71, 82, 72, 73, 74, 71, 75, 77, 72, 74, 72, 73, 78, 77, 73, 73, 73, 73, 73, 76, 75, 70, 73, 72, 73, 75, 74, 73, 73, 76, 73, 75, 70, 77, 72, 77, 74, 75, 75, 75, 75, 72, 74, 71, 76, 71, 75, 76, 83, 75, 74, 76, 72, 72, 75, 75, 72, 77, 73, 72, 70, 74, 72, 74, 72, 71, 70, 71, 76, 74, 76, 74, 74, 74, 75, 75, 71, 71, 74, 77, 71, 74, 75, 77, 76, 74, 76, 72, 71, 72, 75, 73, 68, 72, 69, 73, 73, 75, 70, 70, 74, 75, 74, 74, 73, 74, 75, 77, 73, 74, 76, 74, 75, 73, 76, 78, 75, 73, 77, 74, 72, 74, 72, 71, 73, 75, 73, 67, 67, 76, 74, 73, 70, 75, 70, 72, 77, 79, 78, 74, 75, 75, 78, 76, 75, 69, 75, 72, 75, 73, 74, 75, 75, 73]\n",
    "peso_libra = [180, 215, 210, 210, 188, 176, 209, 200, 231, 180, 188, 180, 185, 160, 180, 185, 189, 185, 219, 230, 205, 230, 195, 180, 192, 225, 203, 195, 182, 188, 200, 180, 200, 200, 245, 240, 215, 185, 175, 199, 200, 215, 200, 205, 206, 186, 188, 220, 210, 195, 200, 200, 212, 224, 210, 205, 220, 195, 200, 260, 228, 270, 200, 210, 190, 220, 180, 205, 210, 220, 211, 200, 180, 190, 170, 230, 155, 185, 185, 200, 225, 225, 220, 160, 205, 235, 250, 210, 190, 160, 200, 205, 222, 195, 205, 220, 220, 170, 185, 195, 220, 230, 180, 220, 180, 180, 170, 210, 215, 200, 213, 180, 192, 235, 185, 235, 210, 222, 210, 230, 220, 180, 190, 200, 210, 194, 180, 190, 240, 200, 198, 200, 195, 210, 220, 190, 210, 225, 180, 185, 170, 185, 185, 180, 178, 175, 200, 204, 211, 190, 210, 190, 190, 185, 290, 175, 185, 200, 220, 170, 220, 190, 220, 205, 200, 250, 225, 215, 210, 215, 195, 200, 194, 220, 180, 180, 170, 195, 180, 170, 206, 205, 200, 225, 201, 225, 233, 180, 225, 180, 220, 180, 237, 215, 190, 235, 190, 180, 165, 195, 200, 190, 190, 185, 185, 205, 190, 205, 206, 220, 208, 170, 195, 210, 190, 211, 230, 170, 185, 185, 241, 225, 210, 175, 230, 200, 215, 198, 226, 278, 215, 230, 240, 184, 219, 170, 218, 190, 225, 220, 176, 190, 197, 204, 167, 180, 195, 220, 215, 185, 190, 205, 205, 200, 210, 215, 200, 205, 211, 190, 208, 200, 210, 232, 230, 210, 220, 210, 202, 212, 225, 170, 190, 200, 237, 220, 170, 193, 190, 150, 220, 200, 190, 185, 185, 200, 172, 220, 225, 190, 195, 219, 190, 197, 200, 195, 210, 177, 220, 235, 180, 195, 195, 190, 230, 190, 200, 190, 190, 200, 200, 184, 200, 180, 219, 187, 200, 220, 205, 190, 170, 160, 215, 175, 205, 200, 214, 200, 190, 180, 205, 220, 190, 215, 235, 191, 200, 181, 200, 210, 240, 185, 165, 190, 185, 175, 155, 210, 170, 175, 220, 210, 205, 200, 205, 195, 240, 150, 200, 215, 202, 200, 190, 205, 190, 160, 215, 185, 200, 190, 210, 185, 220, 190, 202, 205, 220, 175, 160, 190, 200, 229, 206, 220, 180, 195, 175, 188, 230, 190, 200, 190, 219, 235, 180, 180, 180, 200, 234, 185, 220, 223, 200, 210, 200, 210, 190, 177, 227, 180, 195, 199, 175, 185, 240, 210, 180, 194, 225, 180, 205, 193, 230, 230, 220, 200, 249, 190, 208, 245, 250, 160, 192, 220, 170, 197, 155, 190, 200, 220, 210, 228, 190, 160, 184, 180, 180, 200, 176, 160, 222, 211, 195, 200, 175, 206, 240, 185, 260, 185, 221, 205, 200, 170, 201, 205, 185, 205, 245, 220, 210, 220, 185, 175, 170, 180, 200, 210, 175, 220, 206, 180, 210, 195, 200, 200, 164, 180, 220, 195, 205, 170, 240, 210, 195, 200, 205, 192, 190, 170, 240, 200, 205, 175, 250, 220, 224, 210, 195, 180, 245, 175, 180, 215, 175, 180, 195, 230, 230, 205, 215, 195, 180, 205, 180, 190, 180, 190, 190, 220, 210, 255, 190, 230, 200, 205, 210, 225, 215, 220, 205, 200, 220, 197, 225, 187, 245, 185, 185, 175, 200, 180, 188, 225, 200, 210, 245, 213, 231, 165, 228, 210, 250, 191, 190, 200, 215, 254, 232, 180, 215, 220, 180, 200, 170, 195, 210, 200, 220, 165, 180, 200, 200, 170, 224, 220, 180, 198, 240, 239, 185, 210, 220, 200, 195, 220, 230, 170, 220, 230, 165, 205, 192, 210, 205, 200, 210, 185, 195, 202, 205, 195, 180, 200, 185, 240, 185, 220, 205, 205, 180, 201, 190, 208, 240, 180, 230, 195, 215, 190, 195, 215, 215, 220, 220, 230, 195, 190, 195, 209, 204, 170, 185, 205, 175, 210, 190, 180, 180, 160, 235, 200, 210, 180, 190, 197, 203, 205, 170, 200, 250, 200, 220, 200, 190, 170, 190, 220, 215, 206, 215, 185, 235, 188, 230, 195, 168, 190, 160, 200, 200, 189, 180, 190, 200, 220, 187, 240, 190, 180, 185, 210, 220, 219, 190, 193, 175, 180, 215, 210, 200, 190, 185, 220, 170, 195, 205, 195, 210, 190, 190, 180, 220, 190, 186, 185, 190, 180, 190, 170, 210, 240, 220, 180, 210, 210, 195, 160, 180, 205, 200, 185, 245, 190, 210, 200, 200, 222, 215, 240, 170, 220, 156, 190, 202, 221, 200, 190, 210, 190, 200, 165, 190, 185, 230, 208, 209, 175, 180, 200, 205, 200, 250, 210, 230, 244, 202, 240, 200, 215, 177, 210, 170, 215, 217, 198, 200, 220, 170, 200, 230, 231, 183, 192, 167, 190, 180, 180, 215, 160, 205, 223, 175, 170, 190, 240, 175, 230, 223, 196, 167, 195, 190, 250, 190, 190, 190, 170, 160, 150, 225, 220, 209, 210, 176, 260, 195, 190, 184, 180, 195, 195, 219, 225, 212, 202, 185, 200, 209, 200, 195, 228, 210, 190, 212, 190, 218, 220, 190, 235, 210, 200, 188, 210, 235, 188, 215, 216, 220, 180, 185, 200, 210, 220, 185, 231, 210, 195, 200, 205, 200, 190, 250, 185, 180, 170, 180, 208, 235, 215, 244, 220, 185, 230, 190, 200, 180, 190, 196, 180, 230, 224, 160, 178, 205, 185, 210, 180, 190, 200, 257, 190, 220, 165, 205, 200, 208, 185, 215, 170, 235, 210, 170, 180, 170, 190, 150, 230, 203, 260, 246, 186, 210, 198, 210, 215, 180, 200, 245, 200, 192, 192, 200, 192, 205, 190, 186, 170, 197, 219, 200, 220, 207, 225, 207, 212, 225, 170, 190, 210, 230, 210, 200, 238, 234, 222, 200, 190, 170, 220, 223, 210, 215, 196, 175, 175, 189, 205, 210, 180, 180, 197, 220, 228, 190, 204, 165, 216, 220, 208, 210, 215, 195, 200, 215, 229, 240, 207, 205, 208, 185, 190, 170, 208, 225, 190, 225, 185, 180, 165, 240, 220, 212, 163, 215, 175, 205, 210, 205, 208, 215, 180, 200, 230, 211, 230, 190, 220, 180, 205, 190, 180, 205, 190, 195]\n",
    "# ----------------- cálculo do IMC  ----------------------\n",
    "\n",
    "IMC = ??????\n",
    "\n",
    "# --------------------------------------------------------\n",
    "print(\"Os valores de IMC dos alunos são:\")\n",
    "print(IMC)"
   ]
  },
  {
   "cell_type": "markdown",
   "metadata": {},
   "source": [
    "Funções exponenciais e logorítmicas\n",
    "- $\\ e^x$ = $exp(x)$ --> np.exp(array)\n",
    "- $2^x$ --> np.exp2(array)\n",
    "- $b^e$ --> np.power(array_base, array_expoente)\n",
    "- $ln(x)$ --> np.log(array)\n",
    "- $log_2(x)$ --> np.log2(array)\n",
    "- $log_{10}(x)$ --> np.log10(array)"
   ]
  },
  {
   "cell_type": "code",
   "execution_count": 198,
   "metadata": {
    "collapsed": false
   },
   "outputs": [
    {
     "name": "stdout",
     "output_type": "stream",
     "text": [
      "x = [1, 2, 3]\n",
      "e^x = [  2.71828183   7.3890561   20.08553692]\n",
      "2^x = [ 2.  4.  8.]\n",
      "3^x = [2 4 8]\n"
     ]
    }
   ],
   "source": [
    "# Exemplos de uso de funções exponenciais\n",
    "x = [1, 2, 3]\n",
    "print(\"x =\", x)\n",
    "print(\"e^x =\", np.exp(x))\n",
    "print(\"2^x =\", np.exp2(x))\n",
    "print(\"3^x =\", np.power(2, x))"
   ]
  },
  {
   "cell_type": "code",
   "execution_count": null,
   "metadata": {
    "collapsed": false
   },
   "outputs": [],
   "source": [
    "# Exemplos de uso de funções exponenciais\n",
    "\n",
    "#print(\"e^x =\", np.e**x)  # esta expressão está correta?\n",
    "\n",
    "print( \"e^x =\", (np.e*np.ones(3))**x1)"
   ]
  },
  {
   "cell_type": "code",
   "execution_count": 199,
   "metadata": {
    "collapsed": false
   },
   "outputs": [
    {
     "name": "stdout",
     "output_type": "stream",
     "text": [
      "x = [1, 2, 4, 10]\n",
      "ln(x) = [ 0.          0.69314718  1.38629436  2.30258509]\n",
      "log2(x) = [ 0.          1.          2.          3.32192809]\n",
      "log10(x) = [ 0.          0.30103     0.60205999  1.        ]\n"
     ]
    }
   ],
   "source": [
    "# Exemplos de uso de funções logorítmicas\n",
    "x = [1, 2, 4, 10]\n",
    "print(\"x =\", x)\n",
    "print(\"ln(x) =\", np.log(x))\n",
    "print(\"log2(x) =\", np.log2(x))\n",
    "print(\"log10(x) =\", np.log10(x))"
   ]
  },
  {
   "cell_type": "markdown",
   "metadata": {},
   "source": [
    "Operações \"recursivas\" em Arrays Numpy\n",
    "- Executam elemento a elemento recorrentemente, até percorrer todo o array.\n",
    "- np.add.reduce(array) --> retorna a somatória dos elementos do array  \n",
    "- np.multiply.reduce(array) --> retorna o produtório dos elementos do array "
   ]
  },
  {
   "cell_type": "code",
   "execution_count": 201,
   "metadata": {
    "collapsed": false
   },
   "outputs": [
    {
     "name": "stdout",
     "output_type": "stream",
     "text": [
      "x =  [1 2 3 4 5]\n",
      "y1 =  15\n",
      "y2 =  120\n"
     ]
    }
   ],
   "source": [
    "# Exemplos de uso do método reduce()\n",
    "x = np.arange(1,5)\n",
    "y1 = np.add.reduce(x)\n",
    "y2 = np.multiply.reduce(x)\n",
    "\n",
    "print(\"x = \", x)\n",
    "print(\"y1 = \", y1)\n",
    "print(\"y2 = \", y2)\n"
   ]
  },
  {
   "cell_type": "code",
   "execution_count": 202,
   "metadata": {
    "collapsed": false
   },
   "outputs": [
    {
     "name": "stdout",
     "output_type": "stream",
     "text": [
      "Que procedimento o método '.accumulate(array)' executa?\n",
      "x =  [1 2 3 4 5]\n",
      "y3 =  [ 1  3  6 10 15]\n",
      "y4 =  [  1   2   6  24 120]\n"
     ]
    }
   ],
   "source": [
    "# Exemplos de uso do método .accumulate(array)\n",
    "print(\"Que procedimento o método '.accumulate(array)' executa?\")\n",
    "y3 = np.add.accumulate(x)\n",
    "y4 = np.multiply.accumulate(x)\n",
    "\n",
    "print(\"x = \", x)\n",
    "print(\"y3 = \", y3)\n",
    "print(\"y4 = \", y4)"
   ]
  },
  {
   "cell_type": "code",
   "execution_count": 204,
   "metadata": {
    "collapsed": false
   },
   "outputs": [
    {
     "name": "stdout",
     "output_type": "stream",
     "text": [
      "O que procedimento o método '.outer(array1, array2)' executa?\n",
      "x =  [1 2 3 4] \n",
      "\n",
      "x1 =  [ 1.  1.  1.  1.  1.] \n",
      "\n",
      "y5 = \n",
      "[[2 3 4 5]\n",
      " [3 4 5 6]\n",
      " [4 5 6 7]\n",
      " [5 6 7 8]] \n",
      "\n",
      "y6 = \n",
      "[[ 1  2  3  4]\n",
      " [ 2  4  6  8]\n",
      " [ 3  6  9 12]\n",
      " [ 4  8 12 16]] \n",
      "\n",
      "y7 = \n",
      "[[ 2.  2.  2.  2.  2.]\n",
      " [ 3.  3.  3.  3.  3.]\n",
      " [ 4.  4.  4.  4.  4.]\n",
      " [ 5.  5.  5.  5.  5.]]\n"
     ]
    }
   ],
   "source": [
    "# Exemplos de uso do método .outer(array1, array2)\n",
    "print(\"O que procedimento o método '.outer(array1, array2)' executa?\")\n",
    "x = np.arange(1,5)\n",
    "x1 = np.ones(5)\n",
    "y5 = np.add.outer(x, x)\n",
    "y6 = np.multiply.outer(x, x)\n",
    "y7 = np.add.outer(x, x1)\n",
    "\n",
    "print(\"x = \", x,\"\\n\")\n",
    "print(\"x1 = \", x1,\"\\n\")\n",
    "print(\"y5 = \")\n",
    "print(y5,\"\\n\")\n",
    "print(\"y6 = \")\n",
    "print(y6, \"\\n\")\n",
    "print(\"y7 = \")\n",
    "print(y7)"
   ]
  },
  {
   "cell_type": "markdown",
   "metadata": {},
   "source": [
    "Operadores aritiméticos e lógicos entre Arrays Numpy e escalares são aplicados elemento a elemento no Array.\n",
    "De forma geral, é possível realizar operações aritiméticas e lógicos com array de dimensões diferentes.\n",
    "- a operação será reaizada por dimensão."
   ]
  },
  {
   "cell_type": "code",
   "execution_count": 206,
   "metadata": {
    "collapsed": false
   },
   "outputs": [
    {
     "name": "stdout",
     "output_type": "stream",
     "text": [
      "x < 3 \n",
      " [ True  True False False False]\n",
      "x == 3 \n",
      " [False False  True False False]\n",
      "x + 3 \n",
      " [4 5 6 7 8]\n",
      "x * 3 \n",
      " [ 3  6  9 12 15]\n",
      "x / 3 \n",
      " [ 0.33333333  0.66666667  1.          1.33333333  1.66666667]\n"
     ]
    }
   ],
   "source": [
    "# Exemplos de operações aritiméticas e lógicas com Array Numpy e escalares\n",
    "x = np.array([1, 2, 3, 4, 5])\n",
    "print(\"x < 3 \\n\", x<3)\n",
    "print(\"x == 3 \\n\", x==3)\n",
    "print(\"x + 3 \\n\", x+3)\n",
    "print(\"x * 3 \\n\", x*3)\n",
    "print(\"x / 3 \\n\", x/3)"
   ]
  },
  {
   "cell_type": "code",
   "execution_count": 207,
   "metadata": {
    "collapsed": false
   },
   "outputs": [
    {
     "name": "stdout",
     "output_type": "stream",
     "text": [
      "x1  \n",
      " [[1 2 3]\n",
      " [4 5 6]]\n",
      "x2  \n",
      " [2 2 2]\n",
      "x1 < 3 \n",
      " [[ True  True False]\n",
      " [False False False]]\n",
      "x1 == 3 \n",
      " [[False False  True]\n",
      " [False False False]]\n",
      "x1 + x2 \n",
      " [[3 4 5]\n",
      " [6 7 8]]\n",
      "x1 * x2 \n",
      " [[ 2  4  6]\n",
      " [ 8 10 12]]\n",
      "x2 * x1 \n",
      " [[ 2  4  6]\n",
      " [ 8 10 12]]\n"
     ]
    }
   ],
   "source": [
    "# Exemplos de operações aritiméticas e lógicas \n",
    "# entre Array bidimensional e unidimensional\n",
    "x1 = np.array([[1, 2, 3], [4, 5, 6]])\n",
    "x2 = np.array([2,2,2])\n",
    "print(\"x1  \\n\", x1)\n",
    "print(\"x2  \\n\", x2)\n",
    "print(\"x1 < 3 \\n\", x1<3)\n",
    "print(\"x1 == 3 \\n\", x1==3)\n",
    "print(\"x1 + x2 \\n\", x1+x2)\n",
    "print(\"x1 * x2 \\n\", x1* x2)\n",
    "print(\"x2 * x1 \\n\", x2* x1)"
   ]
  },
  {
   "cell_type": "code",
   "execution_count": 208,
   "metadata": {
    "collapsed": false
   },
   "outputs": [
    {
     "name": "stdout",
     "output_type": "stream",
     "text": [
      "[[1 2 3]\n",
      " [4 5 6]]\n",
      "Número de valores menores de 3 em x1  2\n",
      "Número de valores menores de 3 em x1  2\n",
      "Por que os valores dos dois comandos print() são iguais?\n"
     ]
    }
   ],
   "source": [
    "# Exemplo de métodos sobre arrays Numpy booleanos\n",
    "print(x1)\n",
    "print(\"Número de valores menores de 3 em x1 \", np.count_nonzero(x1 < 3))\n",
    "print(\"Número de valores menores de 3 em x1 \", np.sum(x1 < 3))\n",
    "print(\"Por que os valores dos dois comandos print() são iguais?\")"
   ]
  },
  {
   "cell_type": "code",
   "execution_count": 209,
   "metadata": {
    "collapsed": false
   },
   "outputs": [
    {
     "name": "stdout",
     "output_type": "stream",
     "text": [
      "Explique o funcionamento desses dois métodos\n",
      "[[1 2 3]\n",
      " [4 5 6]]\n",
      "True\n",
      "False\n"
     ]
    }
   ],
   "source": [
    "# Exemplo de uso dos métodos np.all(array_booleano) e np.any(array_booleano)\n",
    "print(\"Explique o funcionamento desses dois métodos\")\n",
    "print(x1)\n",
    "print(np.any(x1<3))\n",
    "print(np.all(x1<3))\n"
   ]
  },
  {
   "cell_type": "markdown",
   "metadata": {},
   "source": [
    "Há diversos métodos que implementam funções estatísticas básicas para Arrays Numpy. Abaixo são apresentados alguns exemplos de uso dessas funções."
   ]
  },
  {
   "cell_type": "code",
   "execution_count": 210,
   "metadata": {
    "collapsed": false
   },
   "outputs": [
    {
     "name": "stdout",
     "output_type": "stream",
     "text": [
      "x =  [1 2 3 4 5 6 7 8 9]\n",
      "valor mínimo de x =  1\n",
      "valor mínimo de x =  1\n",
      "valor máximo de x =  9\n",
      "valor máximo de x =  9\n",
      "soma dos elementos de x =  45\n",
      "soma dos elementos de x =  45\n"
     ]
    }
   ],
   "source": [
    "# Exemplos de uso de funções estatísticas\n",
    "\n",
    "x = np.arange(1,10)\n",
    "print(\"x = \", x)\n",
    "print(\"valor mínimo de x = \", x.min())\n",
    "print(\"valor mínimo de x = \", min(x))\n",
    "print(\"valor máximo de x = \", x.max())\n",
    "print(\"valor máximo de x = \", max(x))\n",
    "print(\"soma dos elementos de x = \", x.sum())\n",
    "print(\"soma dos elementos de x = \", sum(x))"
   ]
  },
  {
   "cell_type": "code",
   "execution_count": 211,
   "metadata": {
    "collapsed": false
   },
   "outputs": [
    {
     "name": "stdout",
     "output_type": "stream",
     "text": [
      "média dos valores dos elementos de x =  5.0\n",
      "desvio padrão dos valores dos elementos de x =  2.58198889747\n"
     ]
    }
   ],
   "source": [
    "# Exemplos de uso de funções estatísticas\n",
    "print(\"média dos valores dos elementos de x = \", x.mean())\n",
    "print(\"desvio padrão dos valores dos elementos de x = \", x.std())"
   ]
  },
  {
   "cell_type": "code",
   "execution_count": null,
   "metadata": {
    "collapsed": false
   },
   "outputs": [],
   "source": [
    "print(\"Os dois comandos print() abaixo estão corretos?\")\n",
    "# print(\"média dos valores dos elementos de x = \", mean(x))\n",
    "#print(\"desvio padrão dos valores dos elementos de x = \", std(x))"
   ]
  },
  {
   "cell_type": "code",
   "execution_count": 212,
   "metadata": {
    "collapsed": false
   },
   "outputs": [
    {
     "name": "stdout",
     "output_type": "stream",
     "text": [
      "x =  [1 2 3 4 5 6 7 8 9]\n",
      "valor mínimo de x =  1\n",
      "valor máximo de x =  9\n",
      "soma dos elementos de x =  45\n",
      "média dos valores dos elementos de x =  5.0\n",
      "mediana dos valores dos elementos de x =  5.0\n",
      "desvio padrão dos valores dos elementos de x =  2.58198889747\n",
      "variância dos valores dos elementos de x =  6.66666666667\n",
      "desvio padrão dos valores dos elementos de x =  2.58198889747\n"
     ]
    }
   ],
   "source": [
    "# Exemplo de uso de funções estatísticas sobre Arrays Numpy\n",
    "x = np.arange(1,10)\n",
    "print(\"x = \", x)\n",
    "print(\"valor mínimo de x = \", np.min(x))\n",
    "print(\"valor máximo de x = \", np.max(x))\n",
    "print(\"soma dos elementos de x = \", np.sum(x))\n",
    "print(\"média dos valores dos elementos de x = \", np.mean(x))\n",
    "print(\"mediana dos valores dos elementos de x = \", np.median(x))\n",
    "print(\"desvio padrão dos valores dos elementos de x = \", np.std(x))\n",
    "print(\"variância dos valores dos elementos de x = \", np.var(x))\n",
    "print(\"desvio padrão dos valores dos elementos de x = \", np.sqrt(np.var(x)))"
   ]
  },
  {
   "cell_type": "markdown",
   "metadata": {},
   "source": [
    "Como visto anteriormente, os métodos específicos do Numpy são mais eficientes computacionalmente do que métodos padrões.\n",
    "\n",
    "A seguir verifique o desempenho de métodos estatísticos específicos do Numpy com relação aos métodos gerais."
   ]
  },
  {
   "cell_type": "code",
   "execution_count": 213,
   "metadata": {
    "collapsed": false
   },
   "outputs": [
    {
     "name": "stdout",
     "output_type": "stream",
     "text": [
      "10 loops, best of 3: 90.2 ms per loop\n",
      "1000 loops, best of 3: 505 µs per loop\n"
     ]
    }
   ],
   "source": [
    "# Exemplo - Avaliação de método genérico e método específico do Numpy\n",
    "big_array = np.random.rand(1000000)\n",
    "%timeit sum(big_array)\n",
    "%timeit np.sum(big_array)"
   ]
  },
  {
   "cell_type": "code",
   "execution_count": null,
   "metadata": {
    "collapsed": true
   },
   "outputs": [],
   "source": [
    "# Exercício - Avalie o desempenho dos métodos genérico e específico\n",
    "# para cálculo de desvio padrão\n",
    "# Utilize o Array big_array\n",
    "\n"
   ]
  },
  {
   "cell_type": "markdown",
   "metadata": {},
   "source": [
    "Para se realizar operações matriciais com Arrays Numpy é necessário utilizar métodos.\n",
    "- np.dot(x,y) --> x*y\n",
    "- x.dot(y) --> x*y\n",
    "- np.inv\n",
    "- np.mat.T  --> $mat^T$"
   ]
  },
  {
   "cell_type": "code",
   "execution_count": 214,
   "metadata": {
    "collapsed": false
   },
   "outputs": [
    {
     "name": "stdout",
     "output_type": "stream",
     "text": [
      "z1 = \n",
      " [[  28.   64.]\n",
      " [  67.  181.]]\n",
      "\n",
      "z2 = \n",
      " [[  28.   64.]\n",
      " [  67.  181.]]\n"
     ]
    }
   ],
   "source": [
    "# Exemplo de uso de métodos para operação matricial em Arrays Numpy\n",
    "x = np.array([[1., 2., 3.], [4., 5., 6.]])\n",
    "y = np.array([[6., 23.], [-1, 7], [8, 9]])\n",
    "z1 = x.dot(y) \n",
    "z2 = np.dot(x, y)\n",
    "print(\"z1 = \\n\", z1)\n",
    "print(\"\\nz2 = \\n\", z2)"
   ]
  },
  {
   "cell_type": "markdown",
   "metadata": {},
   "source": [
    "O programa abaixo implementa a seguinte equação matricial:\n",
    "\n",
    "$mat_2 = mat_1^T * mat_1$"
   ]
  },
  {
   "cell_type": "code",
   "execution_count": 215,
   "metadata": {
    "collapsed": false
   },
   "outputs": [
    {
     "name": "stdout",
     "output_type": "stream",
     "text": [
      "mat1 = \n",
      " [[ 1.   2.   3. ]\n",
      " [ 4.5  0.5  6.7]\n",
      " [ 7.3  1.8  2.7]]\n",
      "mat2 = \n",
      " [[ 74.54  17.39  52.86]\n",
      " [ 17.39   7.49  14.21]\n",
      " [ 52.86  14.21  61.18]]\n"
     ]
    }
   ],
   "source": [
    "import numpy as np\n",
    "\n",
    "mat1 = np.array([[1., 2., 3.], [4.5, .5, 6.7], [7.3,1.8,2.7]]) \n",
    "mat2 = mat1.T.dot(mat1)\n",
    "print(\"mat1 = \\n\", mat1)\n",
    "print(\"mat2 = \\n\", mat2)"
   ]
  },
  {
   "cell_type": "code",
   "execution_count": 216,
   "metadata": {
    "collapsed": false
   },
   "outputs": [
    {
     "data": {
      "text/plain": [
       "array([[ -1.40625000e-01,   1.27802812e-20,   1.56250000e-01],\n",
       "       [  4.82668067e-01,  -2.52100840e-01,   8.92857143e-02],\n",
       "       [  5.84296218e-02,   1.68067227e-01,  -1.11607143e-01]])"
      ]
     },
     "execution_count": 216,
     "metadata": {},
     "output_type": "execute_result"
    }
   ],
   "source": [
    "#from numpy.linalg import inv\n",
    "np.linalg.inv(mat1)"
   ]
  },
  {
   "cell_type": "code",
   "execution_count": 217,
   "metadata": {
    "collapsed": false
   },
   "outputs": [
    {
     "data": {
      "text/plain": [
       "array([[ -1.40625000e-01,   1.27802812e-20,   1.56250000e-01],\n",
       "       [  4.82668067e-01,  -2.52100840e-01,   8.92857143e-02],\n",
       "       [  5.84296218e-02,   1.68067227e-01,  -1.11607143e-01]])"
      ]
     },
     "execution_count": 217,
     "metadata": {},
     "output_type": "execute_result"
    }
   ],
   "source": [
    "# Para evitar explicitar o caminho do método no pacote\n",
    "from numpy.linalg import inv\n",
    "inv(mat1)"
   ]
  },
  {
   "cell_type": "code",
   "execution_count": 117,
   "metadata": {
    "collapsed": false
   },
   "outputs": [
    {
     "data": {
      "text/plain": [
       "array([[  1.00000000e+00,  -2.77555756e-17,   5.55111512e-17],\n",
       "       [  9.15642445e-17,   1.00000000e+00,   9.67480064e-17],\n",
       "       [  8.29751767e-18,  -6.22751150e-18,   1.00000000e+00]])"
      ]
     },
     "execution_count": 117,
     "metadata": {},
     "output_type": "execute_result"
    }
   ],
   "source": [
    "# A multiplicação de uma matriz por sua inversa é uma matriz Identidade\n",
    "mat1.dot(inv(mat1))"
   ]
  },
  {
   "cell_type": "code",
   "execution_count": 218,
   "metadata": {
    "collapsed": false
   },
   "outputs": [
    {
     "data": {
      "text/plain": [
       "array([[  1.00000000e+00,  -2.77555756e-17,   5.55111512e-17],\n",
       "       [  9.15642445e-17,   1.00000000e+00,   9.67480064e-17],\n",
       "       [  8.29751767e-18,  -6.22751150e-18,   1.00000000e+00]])"
      ]
     },
     "execution_count": 218,
     "metadata": {},
     "output_type": "execute_result"
    }
   ],
   "source": [
    "# A multiplicação de uma matriz por sua inversa é uma matriz Identidade\n",
    "np.dot(mat1,inv(mat1))"
   ]
  },
  {
   "cell_type": "code",
   "execution_count": 219,
   "metadata": {
    "collapsed": false
   },
   "outputs": [
    {
     "name": "stdout",
     "output_type": "stream",
     "text": [
      "Determinante de mat1 =  76.16\n",
      "Determinante de mat1 =  76.16\n"
     ]
    }
   ],
   "source": [
    "# O mesmo problema ocorre com o método determinante\n",
    "print(\"Determinante de mat1 = \", np.linalg.det(mat1))\n",
    "\n",
    "from numpy.linalg import det\n",
    "print(\"Determinante de mat1 = \", det(mat1))"
   ]
  },
  {
   "cell_type": "markdown",
   "metadata": {},
   "source": [
    "Exercício:\n",
    "\n",
    "Calcule a seguinte expressão matricial (use os vetores e matrizes já definidos anteriormente)\n",
    "\n",
    "$ mat_3 = mat_1 * (mat_2)^{-1} * mat_1^T$"
   ]
  },
  {
   "cell_type": "code",
   "execution_count": null,
   "metadata": {
    "collapsed": true
   },
   "outputs": [],
   "source": [
    "# Resolução do exercício\n",
    "# Utilize mat1 e mat2 definidos acima\n",
    "\n",
    "???????\n",
    "\n",
    "print(\"Valor de mat3 = \\n\", mat3)"
   ]
  },
  {
   "cell_type": "markdown",
   "metadata": {},
   "source": [
    "Classe Matriz em Numpy\n",
    "- O Pacote Numpy possui uma classe especial de Array (uni e bidimensonal) denominada de matriz.\n",
    "- Esse tipo de classe possui métodos específicos\n",
    "- Matrizes necessitam ser bidimensionais.\n",
    "    - Para se utilizar estrutura com dimensão maior que 2, prezamos utilizar Arrays Numpy\n",
    "- As operações sobre o \"tipo\" matriz são operações matriciais, como em Matlab.\n",
    "    - Operações sobre Arrays são operações elemento a elemento.\n",
    "\n"
   ]
  },
  {
   "cell_type": "code",
   "execution_count": 220,
   "metadata": {
    "collapsed": false
   },
   "outputs": [
    {
     "data": {
      "text/plain": [
       "matrix([[ 1.,  2.,  3.]])"
      ]
     },
     "execution_count": 220,
     "metadata": {},
     "output_type": "execute_result"
    }
   ],
   "source": [
    "# Exemplo de uso do tipo Matriz do Numpy\n",
    "import numpy as np\n",
    "\n",
    "x1 = np.array([1, 2, 3], float) # definição de um Array unidimensional de 03 posições float\n",
    "\n",
    "x2 = np.matrix(x1) #  Transformanda o tipo Array em tipo Matriz\n",
    "\n",
    "x2"
   ]
  },
  {
   "cell_type": "code",
   "execution_count": 221,
   "metadata": {
    "collapsed": false
   },
   "outputs": [
    {
     "data": {
      "text/plain": [
       "numpy.matrixlib.defmatrix.matrix"
      ]
     },
     "execution_count": 221,
     "metadata": {},
     "output_type": "execute_result"
    }
   ],
   "source": [
    "type(x2)"
   ]
  },
  {
   "cell_type": "code",
   "execution_count": 222,
   "metadata": {
    "collapsed": false
   },
   "outputs": [
    {
     "name": "stdout",
     "output_type": "stream",
     "text": [
      "Exemplo de uso do método Tranposta de Matriz\n"
     ]
    },
    {
     "data": {
      "text/plain": [
       "matrix([[ 1.,  4.],\n",
       "        [ 2.,  5.],\n",
       "        [ 3.,  6.]])"
      ]
     },
     "execution_count": 222,
     "metadata": {},
     "output_type": "execute_result"
    }
   ],
   "source": [
    "# Exemplo de uso do tipo Matriz do Numpy\n",
    "print(\"Exemplo de uso do método Tranposta de Matriz\")\n",
    "x3 = np.array([[1,2,3],[4,5,6]],float)  # esse passo não é necessário\n",
    "x4 = np.matrix(x3)\n",
    "x5 = np.mat(x4).transpose() \n",
    "x5\n",
    "\n"
   ]
  },
  {
   "cell_type": "code",
   "execution_count": 223,
   "metadata": {
    "collapsed": false
   },
   "outputs": [
    {
     "name": "stdout",
     "output_type": "stream",
     "text": [
      "Exemplo de uso do método 'Tranposta de Matriz'\n"
     ]
    },
    {
     "data": {
      "text/plain": [
       "matrix([[ 1.,  4.],\n",
       "        [ 2.,  5.],\n",
       "        [ 3.,  6.]])"
      ]
     },
     "execution_count": 223,
     "metadata": {},
     "output_type": "execute_result"
    }
   ],
   "source": [
    "# Exemplo de uso do tipo Matriz do Numpy\n",
    "print(\"Exemplo de uso do método 'Tranposta de Matriz'\")\n",
    "x4 = np.matrix([[1,2,3],[4,5,6]],float) # pode-se converter tipo Lista diretamente para tipo Matriz\n",
    "x5 = x4.T\n",
    "# x5 = np.mat(x4).T # transport matriz via método de classe\n",
    "# x5 = np.mat(x4).transpose()   # método para transpor matriz\n",
    "x5"
   ]
  },
  {
   "cell_type": "code",
   "execution_count": 151,
   "metadata": {
    "collapsed": false
   },
   "outputs": [
    {
     "data": {
      "text/plain": [
       "matrix([[1, 2, 3],\n",
       "        [4, 5, 6]])"
      ]
     },
     "execution_count": 151,
     "metadata": {},
     "output_type": "execute_result"
    }
   ],
   "source": [
    "# Outra opção para se inicializar Matrices Numpy\n",
    "np.matrix(\"[1 2 3; 4 5 6]\")"
   ]
  },
  {
   "cell_type": "code",
   "execution_count": 224,
   "metadata": {
    "collapsed": false
   },
   "outputs": [
    {
     "name": "stdout",
     "output_type": "stream",
     "text": [
      "Exemplo de uso do criação de uma Matriz Identidade\n",
      "[[ 4.  0.  0.  0.  0.]\n",
      " [ 0.  4.  0.  0.  0.]\n",
      " [ 0.  0.  4.  0.  0.]\n",
      " [ 0.  0.  0.  4.  0.]\n",
      " [ 0.  0.  0.  0.  4.]]\n"
     ]
    }
   ],
   "source": [
    "# Exemplo de uso do tipo Matriz do Numpy\n",
    "print(\"Exemplo de uso do criação de uma Matriz Identidade\")\n",
    "mat0 = np.eye(5)  # matriz identidade de ordem 5 - ainda é tipo array\n",
    "#mat0 = np.identity(5)\n",
    "print(4*mat0)"
   ]
  },
  {
   "cell_type": "code",
   "execution_count": 225,
   "metadata": {
    "collapsed": false
   },
   "outputs": [
    {
     "name": "stdout",
     "output_type": "stream",
     "text": [
      "<class 'numpy.ndarray'>\n",
      "<class 'numpy.matrixlib.defmatrix.matrix'>\n"
     ]
    }
   ],
   "source": [
    "# Transformar Array Identidade para Matriz Identidade\n",
    "print(type(mat0))\n",
    "mat1 = np.matrix(mat0)\n",
    "print(type(mat1))"
   ]
  },
  {
   "cell_type": "code",
   "execution_count": null,
   "metadata": {
    "collapsed": true
   },
   "outputs": [],
   "source": [
    "# Exercício\n",
    "\n",
    "print(\"O que ocorre quando se multiplica um Array por uma Matriz?\")\n",
    "print(\"Escreva um programa para investigar isto\")\n",
    "\n",
    "\n"
   ]
  },
  {
   "cell_type": "code",
   "execution_count": 226,
   "metadata": {
    "collapsed": false
   },
   "outputs": [
    {
     "name": "stdout",
     "output_type": "stream",
     "text": [
      "2*mat1*mat2 = \n",
      " [[  2.   4.   6.]\n",
      " [  8.  10.  12.]\n",
      " [ 14.  16.  18.]]\n",
      "\n",
      "vet1*mat1*vet2 = \n",
      " [[ 456.]]\n"
     ]
    }
   ],
   "source": [
    "# Exemplos de uso de operadores sobre tipo Matriz do Numpy\n",
    "vet1 = np.matrix([1,2,3],float)   # vetor linha 1x3\n",
    "vet2 = np.matrix([[2],[4],[6]],float)   # vetor coluna 3x1\n",
    "mat1 = np.matrix ([[1,2,3],[4,5,6], [7,8,9]],float) # matriz 3x3\n",
    "mat2 = np.eye(3)   # matriz identidade 3x3\n",
    "\n",
    "print(\"2*mat1*mat2 = \\n\", 2*mat1*mat2)\n",
    "print(\"\\nvet1*mat1*vet2 = \\n\", vet1*mat1*vet2)"
   ]
  },
  {
   "cell_type": "markdown",
   "metadata": {},
   "source": [
    "Exercício:\n",
    "\n",
    "Calcule a seguinte expressão matricial (use os vetores e matrizes já definidos anteriormente)\n",
    "\n",
    "$ mat3 = (mat1^T * mat1) * vet1^T$"
   ]
  },
  {
   "cell_type": "code",
   "execution_count": null,
   "metadata": {
    "collapsed": true
   },
   "outputs": [],
   "source": [
    "# Solução do exercício\n",
    "\n",
    "?????????\n",
    "print(\"mat3 = \\n\")\n",
    "print(mat3)"
   ]
  },
  {
   "cell_type": "code",
   "execution_count": 227,
   "metadata": {
    "collapsed": false
   },
   "outputs": [
    {
     "name": "stdout",
     "output_type": "stream",
     "text": [
      "Matriz mat1 = \n",
      " [[ 1.   2.   3. ]\n",
      " [ 4.7  1.5  2.6]\n",
      " [-3.   8.7  1.9]]\n",
      "\n",
      "Matriz inversa de mat1 = \n",
      " [[-0.23836508  0.26886906  0.00843984]\n",
      " [-0.20171208  0.1314203   0.13865445]\n",
      " [ 0.54726308 -0.17723656 -0.09524958]]\n"
     ]
    }
   ],
   "source": [
    "# Exemplo de uso de inversa de matriz\n",
    "mat1 = np.matrix ([[1,2,3],[4.7,1.5,2.6], [-3,8.7,1.9]],float) # matriz 3x3\n",
    "print(\"Matriz mat1 = \\n\", mat1)\n",
    "print(\"\\nMatriz inversa de mat1 = \\n\", mat1.I)"
   ]
  },
  {
   "cell_type": "markdown",
   "metadata": {},
   "source": [
    "Exercício:\n",
    "\n",
    "Calcule a seguinte expressão matricial (use os vetores e matrizes já definidos anteriormente)\n",
    "\n",
    "$ mat3 = vet1 * (mat1^T * mat1)^{-1} * vet1^T$"
   ]
  },
  {
   "cell_type": "code",
   "execution_count": null,
   "metadata": {
    "collapsed": true
   },
   "outputs": [],
   "source": [
    "# Solução do exercício\n",
    "\n",
    "?????????\n",
    "print(\"mat3 = \\n\")\n",
    "print(mat3)"
   ]
  },
  {
   "cell_type": "markdown",
   "metadata": {},
   "source": [
    "A baixo são apresentadas as abordagens via array e matriz para para o seguinte cálculo matricial:\n",
    "- $z = y^T * X * y $"
   ]
  },
  {
   "cell_type": "code",
   "execution_count": 228,
   "metadata": {
    "collapsed": false
   },
   "outputs": [
    {
     "data": {
      "text/plain": [
       "array([[ 1195.46796121]])"
      ]
     },
     "execution_count": 228,
     "metadata": {},
     "output_type": "execute_result"
    }
   ],
   "source": [
    "# Geração do Array bidimensional X  (Matriz 4x4)\n",
    "X = np.array([[ 8.82768214, 3.82222409, -1.14276475, 2.04411587],[ 3.82222409, 6.75272284, 0.83909108, 2.08293758],[-1.14276475, 0.83909108, 5.01690521, 0.79573241],[ 2.04411587, 2.08293758, 0.79573241, 6.24095859]])\n",
    "\n",
    "y = X[:, :1]    # Obtenção do vetor y (array 4x1) \n",
    "\n",
    "np.dot(y.T, np.dot(X, y))\n"
   ]
  },
  {
   "cell_type": "code",
   "execution_count": 139,
   "metadata": {
    "collapsed": false
   },
   "outputs": [
    {
     "data": {
      "text/plain": [
       "matrix([[ 1195.46796121]])"
      ]
     },
     "execution_count": 139,
     "metadata": {},
     "output_type": "execute_result"
    }
   ],
   "source": [
    "# Versão da solução acima utilizando-se a classe Matriz\n",
    "Xm = np.matrix(X)\n",
    "ym = Xm[:, 0]\n",
    "ym.T * Xm * ym"
   ]
  },
  {
   "cell_type": "code",
   "execution_count": 229,
   "metadata": {
    "collapsed": false
   },
   "outputs": [
    {
     "data": {
      "text/plain": [
       "matrix([[  1.00000000e+00,   0.00000000e+00,  -5.55111512e-17,\n",
       "           5.55111512e-17],\n",
       "        [ -1.11022302e-16,   1.00000000e+00,   2.77555756e-17,\n",
       "          -5.55111512e-17],\n",
       "        [  1.11022302e-16,   0.00000000e+00,   1.00000000e+00,\n",
       "           0.00000000e+00],\n",
       "        [ -5.55111512e-17,  -5.55111512e-17,   2.77555756e-17,\n",
       "           1.00000000e+00]])"
      ]
     },
     "execution_count": 229,
     "metadata": {},
     "output_type": "execute_result"
    }
   ],
   "source": [
    "Xm.I * Xm"
   ]
  },
  {
   "cell_type": "code",
   "execution_count": 141,
   "metadata": {
    "collapsed": false
   },
   "outputs": [
    {
     "data": {
      "text/plain": [
       "matrix([[  1.00000000e+00,   0.00000000e+00,  -5.55111512e-17,\n",
       "           5.55111512e-17],\n",
       "        [ -1.11022302e-16,   1.00000000e+00,   2.77555756e-17,\n",
       "          -5.55111512e-17],\n",
       "        [  1.11022302e-16,   0.00000000e+00,   1.00000000e+00,\n",
       "           0.00000000e+00],\n",
       "        [ -5.55111512e-17,  -5.55111512e-17,   2.77555756e-17,\n",
       "           1.00000000e+00]])"
      ]
     },
     "execution_count": 141,
     "metadata": {},
     "output_type": "execute_result"
    }
   ],
   "source": [
    "Xm.I * X"
   ]
  },
  {
   "cell_type": "code",
   "execution_count": 149,
   "metadata": {
    "collapsed": false
   },
   "outputs": [
    {
     "data": {
      "text/plain": [
       "matrix([[ 77.92797196,  14.60939699,   1.30591127,   4.17840969],\n",
       "        [ 14.60939699,  45.59926575,   0.70407384,   4.33862896],\n",
       "        [  1.30591127,   0.70407384,  25.16933789,   0.63319007],\n",
       "        [  4.17840969,   4.33862896,   0.63319007,  38.94956412]])"
      ]
     },
     "execution_count": 149,
     "metadata": {},
     "output_type": "execute_result"
    }
   ],
   "source": [
    "# Obs.: Para se fazer multiplicação elemento a elemento com Matrizes,\n",
    "# precisamos utilizar o método multiply\n",
    "\n",
    "np.multiply(Xm,Xm)"
   ]
  },
  {
   "cell_type": "code",
   "execution_count": null,
   "metadata": {
    "collapsed": true
   },
   "outputs": [],
   "source": []
  }
 ],
 "metadata": {
  "kernelspec": {
   "display_name": "Python 3",
   "language": "python",
   "name": "python3"
  },
  "language_info": {
   "codemirror_mode": {
    "name": "ipython",
    "version": 3
   },
   "file_extension": ".py",
   "mimetype": "text/x-python",
   "name": "python",
   "nbconvert_exporter": "python",
   "pygments_lexer": "ipython3",
   "version": "3.6.3"
  }
 },
 "nbformat": 4,
 "nbformat_minor": 2
}
